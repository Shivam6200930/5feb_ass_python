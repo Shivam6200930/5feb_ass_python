{
 "cells": [
  {
   "cell_type": "markdown",
   "metadata": {},
   "source": [
    "## Q1. Explain Class and Object with respect to Object-Oriented Programming. Give a suitable example."
   ]
  },
  {
   "cell_type": "markdown",
   "metadata": {},
   "source": [
    "### Ans:--\n"
   ]
  },
  {
   "cell_type": "markdown",
   "metadata": {},
   "source": [
    "In object-oriented programming, a class is a blueprint for creating objects. It defines the properties and behaviors that objects of that class will have. An object is an instance of a class. It has the properties and behaviors that are defined by the class.\n",
    "\n",
    "For example, you might have a class called Dog. This class would define the properties that a dog has, such as its name, breed, and age. It would also define the behaviors that a dog has, such as barking, eating, and sleeping.\n",
    "\n",
    "You could then create objects from the Dog class. Each object would have its own unique set of values for the properties that are defined by the class. For example, you might have a dog named Fido who is a Golden Retriever and is 5 years old. You might also have a dog named Spot who is a Beagle and is 2 years old.\n",
    "\n",
    "Classes and objects are two of the most important concepts in object-oriented programming. They allow you to create programs that are modular, reusable, and easy to maintain."
   ]
  },
  {
   "cell_type": "code",
   "execution_count": 2,
   "metadata": {},
   "outputs": [
    {
     "name": "stdout",
     "output_type": "stream",
     "text": [
      "5\n",
      "5\n",
      "0\n",
      "0\n"
     ]
    }
   ],
   "source": [
    "class car:\n",
    "    def __init__(self,make,model,year):\n",
    "        self.make = make\n",
    "        self.model = model\n",
    "        self.year = year\n",
    "        self.speed=0\n",
    "\n",
    "    def acceleration(self):\n",
    "        self.speed += 5\n",
    "\n",
    "    def brake(self):\n",
    "        self.speed -= 5\n",
    "\n",
    "    def get_speed(self):\n",
    "        return self.speed\n",
    "    \n",
    "car1=car(\"tata\",\"harrier\",2023)\n",
    "car2=car(\"mahindra\",\"thar\",2024)\n",
    "\n",
    "car1.acceleration()\n",
    "car2.acceleration()\n",
    "\n",
    "print (car1.get_speed())\n",
    "print (car2.get_speed())\n",
    "\n",
    "car1.brake()\n",
    "car2.brake()\n",
    "\n",
    "print(car1.get_speed())\n",
    "print (car2.get_speed())\n",
    "    "
   ]
  },
  {
   "cell_type": "markdown",
   "metadata": {},
   "source": [
    "\n",
    "## Q2. Name the four pillars of OOPs."
   ]
  },
  {
   "cell_type": "markdown",
   "metadata": {},
   "source": [
    "### Ans:--"
   ]
  },
  {
   "cell_type": "markdown",
   "metadata": {},
   "source": [
    "oops have four most important pillars:-\n",
    "i).inheritance\n",
    "ii).polymorphism\n",
    "iii).encapsulation\n",
    "iv).abstraction\n",
    "\n",
    "\n",
    "#### i).inheritance:-\n",
    "Inheritance allows a class (subclass or derived class) to inherit the properties and behaviors of another class (base class or superclass).\n",
    "\n",
    "It promotes code reusability, as common attributes and methods can be defined in a base class and inherited by multiple derived classes.\n",
    "\n",
    "#### ii).polymorphism:=\n",
    "Polymorphism allows objects of different classes to be treated as objects of a common base class.\n",
    "\n",
    "It enables a single interface (method or operator) to be used for entities of different types, providing a way to write more flexible and reusable code.\n",
    "\n",
    "\n",
    "\n",
    "#### iii).encapsulation:-\n",
    "Encapsulation refers to the bundling of data (attributes) and the methods (functions) that operate on the data into a single unit, known as a class.\n",
    "\n",
    "\n",
    "It hides the internal details of how an object works and exposes only what is necessary for the outside world to interact with.\n",
    "\n",
    "\n",
    "#### iv).abstraction\n",
    "\n",
    "Abstraction involves simplifying complex systems by modeling classes based on the essential properties and behaviors they possess.\n",
    "\n",
    "It allows programmers to focus on the relevant features of an object while ignoring unnecessary details, making the code more manageable."
   ]
  },
  {
   "cell_type": "markdown",
   "metadata": {},
   "source": []
  },
  {
   "cell_type": "markdown",
   "metadata": {},
   "source": [
    "## Q3. Explain why the __init__() function is used. Give a suitable example."
   ]
  },
  {
   "cell_type": "markdown",
   "metadata": {},
   "source": [
    "### Ans:--"
   ]
  },
  {
   "cell_type": "markdown",
   "metadata": {},
   "source": [
    "The method __init__ is a special method in Python that is called automatically when creating a new instance of a class. We use this method to initialize the instance and it can be used to perform any action before the instance is applied.\n"
   ]
  },
  {
   "cell_type": "code",
   "execution_count": 7,
   "metadata": {},
   "outputs": [
    {
     "name": "stdout",
     "output_type": "stream",
     "text": [
      "name: shivam, age:21\n",
      "name: mohit, age:20\n"
     ]
    }
   ],
   "source": [
    "\n",
    "class person:\n",
    "    def __init__(self,name , age):\n",
    "        self.name = name\n",
    "        self.age=age\n",
    "\n",
    "    def details_person(self):\n",
    "        return print(f\"name: {self.name}, age:{self.age}\")\n",
    "    \n",
    "person1=person('shivam',21)\n",
    "person2=person('mohit',20)\n",
    "\n",
    "person1.details_person()\n",
    "person2.details_person()"
   ]
  },
  {
   "cell_type": "markdown",
   "metadata": {},
   "source": [
    "## Q4. Why self is used in OOPs?"
   ]
  },
  {
   "cell_type": "markdown",
   "metadata": {},
   "source": [
    "### Ans:--"
   ]
  },
  {
   "cell_type": "markdown",
   "metadata": {},
   "source": [
    "The self keyword in Python is used to refer to the current instance of a class. It is used to access the attributes and methods of the class, and to bind the attributes with the given arguments.\n"
   ]
  },
  {
   "cell_type": "markdown",
   "metadata": {},
   "source": [
    "## Q5.What is inheritance? Give an example for each type of inheritance."
   ]
  },
  {
   "cell_type": "markdown",
   "metadata": {},
   "source": [
    "### Ans:--"
   ]
  },
  {
   "cell_type": "markdown",
   "metadata": {},
   "source": [
    "#### Inheritance:--\n",
    "\n",
    "Inheritance is the one of the four pillar of object oriented programming langauages(OOPS) and its allows a new class (subclass or diveded classes) to inherit attributes and behaviour from an exiting class (base class or superclass).the \n",
    "promotes code reusability and establishes a relationship between the classes.\n",
    "\n",
    "thre are several types of inheritance. They\n",
    "\n",
    "#### single Inheritace:--\n",
    "in single inheritance a class inherit fromonly one base classes \n",
    "\n",
    "### Example:--\n"
   ]
  },
  {
   "cell_type": "code",
   "execution_count": 9,
   "metadata": {},
   "outputs": [
    {
     "name": "stdout",
     "output_type": "stream",
     "text": [
      "Dog barks\n",
      "Animal is running in the forest\n"
     ]
    }
   ],
   "source": [
    "class Animal:\n",
    "    def speak(self):\n",
    "        print(\"Animal is running in the forest\")\n",
    "\n",
    "class Dog(Animal):\n",
    "    def barks(self):\n",
    "        print(\"Dog barks\")\n",
    "\n",
    "\n",
    "my_dog=Dog()\n",
    "my_dog.barks()\n",
    "my_dog.speak()"
   ]
  },
  {
   "cell_type": "markdown",
   "metadata": {},
   "source": [
    "### Multiple Inheritant:--\n",
    "\n",
    "in multiple inheritantce, a class can inherit from more than one base class\n",
    "\n",
    "### Example:--"
   ]
  },
  {
   "cell_type": "code",
   "execution_count": 11,
   "metadata": {},
   "outputs": [
    {
     "name": "stdout",
     "output_type": "stream",
     "text": [
      "Book 1\n",
      "book2\n"
     ]
    }
   ],
   "source": [
    "class book:\n",
    "    def book1(self):\n",
    "        print(\"Book 1\")\n",
    "\n",
    "class book1:\n",
    "    def book2(self):\n",
    "        print(\"book2\")\n",
    "\n",
    "class multi(book,book1):\n",
    "    pass\n",
    "\n",
    "b=multi()\n",
    "b.book1()\n",
    "b.book2()\n"
   ]
  },
  {
   "cell_type": "markdown",
   "metadata": {},
   "source": [
    "### multilevel inheritance:--\n",
    "\n",
    "in multilevel inheritance ,a class is diveded from a class , and then another class is deriveded from the derived class.\n",
    "\n",
    "### Example:"
   ]
  },
  {
   "cell_type": "code",
   "execution_count": 13,
   "metadata": {},
   "outputs": [
    {
     "name": "stdout",
     "output_type": "stream",
     "text": [
      "Engine started\n",
      "car is moving\n",
      "car is racing mode\n"
     ]
    }
   ],
   "source": [
    "class vechicle:\n",
    "    def start_engine(self):\n",
    "        print(\"Engine started\")\n",
    "\n",
    "class car(vechicle):\n",
    "    def driver(self):\n",
    "        print(\"car is moving\")\n",
    "\n",
    "class sport(car):\n",
    "    def race(self):\n",
    "        print(\"car is racing mode\")\n",
    "\n",
    "my_sports_car=sport()\n",
    "my_sports_car.start_engine()\n",
    "my_sports_car.driver()\n",
    "my_sports_car.race()"
   ]
  },
  {
   "cell_type": "markdown",
   "metadata": {},
   "source": [
    "## Hericahical inheritace:--\n",
    "\n",
    "in hericahical inheritance , multiple classes are derived from a single base class.\n",
    "\n",
    "## Example:--"
   ]
  },
  {
   "cell_type": "code",
   "execution_count": 15,
   "metadata": {},
   "outputs": [
    {
     "name": "stdout",
     "output_type": "stream",
     "text": [
      "Drawing shape\n",
      "Drawing circle\n",
      "Drawing shape\n",
      "Drawing square\n"
     ]
    }
   ],
   "source": [
    "class Shape:\n",
    "    def draw(self):\n",
    "        print(\"Drawing shape\")\n",
    "\n",
    "class Circle(Shape):\n",
    "    def draw_circle(self):\n",
    "        print(\"Drawing circle\")\n",
    "\n",
    "class Square(Shape):\n",
    "    def draw_square(self):\n",
    "        print(\"Drawing square\")\n",
    "\n",
    "# Creating objects of the Circle and Square classes\n",
    "circle = Circle()\n",
    "square = Square()\n",
    "\n",
    "circle.draw()       \n",
    "circle.draw_circle() \n",
    "\n",
    "square.draw() \n",
    "square.draw_square() \n"
   ]
  },
  {
   "cell_type": "code",
   "execution_count": null,
   "metadata": {},
   "outputs": [],
   "source": []
  }
 ],
 "metadata": {
  "kernelspec": {
   "display_name": "Python 3",
   "language": "python",
   "name": "python3"
  },
  "language_info": {
   "codemirror_mode": {
    "name": "ipython",
    "version": 3
   },
   "file_extension": ".py",
   "mimetype": "text/x-python",
   "name": "python",
   "nbconvert_exporter": "python",
   "pygments_lexer": "ipython3",
   "version": "3.11.2"
  }
 },
 "nbformat": 4,
 "nbformat_minor": 2
}
